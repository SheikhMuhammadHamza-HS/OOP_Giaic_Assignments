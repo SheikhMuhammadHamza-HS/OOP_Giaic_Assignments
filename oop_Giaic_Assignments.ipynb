{
  "nbformat": 4,
  "nbformat_minor": 0,
  "metadata": {
    "colab": {
      "provenance": []
    },
    "kernelspec": {
      "name": "python3",
      "display_name": "Python 3"
    },
    "language_info": {
      "name": "python"
    }
  },
  "cells": [
    {
      "cell_type": "code",
      "execution_count": 1,
      "metadata": {
        "colab": {
          "base_uri": "https://localhost:8080/",
          "height": 0
        },
        "id": "GQaF2FmzUDvi",
        "outputId": "59519b88-e345-4be1-80ed-8e7c891ff69d"
      },
      "outputs": [
        {
          "output_type": "stream",
          "name": "stdout",
          "text": [
            "Student(name='Asad', marks=92)\n"
          ]
        }
      ],
      "source": [
        "from dataclasses import dataclass\n",
        "\n",
        "@dataclass\n",
        "class Student:\n",
        "  name: str\n",
        "  marks: int\n",
        "\n",
        "  def display(self):\n",
        "    return self.name ,self.marks\n",
        "\n",
        "obj = Student(name= \"hamza\",marks=90)\n",
        "obj = Student(name= \"Asad\",marks=92)\n",
        "print(obj)"
      ]
    },
    {
      "cell_type": "code",
      "source": [
        "from typing import ClassVar\n",
        "@dataclass\n",
        "class Counter:\n",
        "  count : ClassVar[int] = 0\n",
        "\n",
        "\n",
        "  def __post_init__ (self):\n",
        "     Counter.count += 1\n",
        "\n",
        "  @classmethod\n",
        "  def display_count(cls):\n",
        "    print(f\"Number of instance created : {cls.count}\")\n",
        "\n",
        "\n",
        "\n",
        "obj1 = Counter()\n",
        "obj = Counter()\n",
        "obj = Counter()\n",
        "obj = Counter()\n",
        "obj = Counter()\n",
        "obj1.display_count()\n"
      ],
      "metadata": {
        "colab": {
          "base_uri": "https://localhost:8080/"
        },
        "id": "d8KOc57RW2-P",
        "outputId": "270ae66e-971b-436f-fe87-781b89063ebc"
      },
      "execution_count": null,
      "outputs": [
        {
          "output_type": "stream",
          "name": "stdout",
          "text": [
            "Number of instance created : 5\n"
          ]
        }
      ]
    },
    {
      "cell_type": "code",
      "source": [
        "@dataclass\n",
        "class Car:\n",
        "  brand: str\n",
        "\n",
        "  def start_car(self):\n",
        "    return\"start the car\"\n",
        "\n",
        "\n",
        "obj2 = Car(\"Toyota\")\n",
        "print(obj2)\n",
        "obj2.start_car()"
      ],
      "metadata": {
        "colab": {
          "base_uri": "https://localhost:8080/"
        },
        "id": "_09Qy0uxalLM",
        "outputId": "1ffd6cec-5746-4761-e523-dfde9eb47149"
      },
      "execution_count": null,
      "outputs": [
        {
          "output_type": "stream",
          "name": "stdout",
          "text": [
            "Car(brand='Toyota')\n",
            "start the car\n"
          ]
        }
      ]
    },
    {
      "cell_type": "code",
      "source": [
        "from typing import ClassVar\n",
        "@dataclass\n",
        "class Bank:\n",
        "  bank_name: ClassVar[str] = \"default value\"\n",
        "\n",
        "  @classmethod\n",
        "  def change_bank_name(cls,name):\n",
        "    cls.bank_name = name\n",
        "\n",
        "\n",
        "bank1 = Bank()\n",
        "bank2 = Bank()\n",
        "bank3 = Bank()\n",
        "print(bank3.bank_name)\n",
        "\n",
        "bank3.change_bank_name(\"Habib bank \")\n",
        "\n",
        "print(bank1.bank_name)\n",
        "print(bank2.bank_name)\n",
        "print(bank3.bank_name)\n"
      ],
      "metadata": {
        "colab": {
          "base_uri": "https://localhost:8080/"
        },
        "id": "rAqpINzlddNz",
        "outputId": "49574f9d-b80d-4154-f695-e9c48bf4708f"
      },
      "execution_count": null,
      "outputs": [
        {
          "output_type": "stream",
          "name": "stdout",
          "text": [
            "default value\n",
            "Habib bank \n",
            "Habib bank \n",
            "Habib bank \n"
          ]
        }
      ]
    },
    {
      "cell_type": "code",
      "source": [
        "class MathUtils:\n",
        "\n",
        "  @staticmethod\n",
        "  def add(a, b):\n",
        "    return a + b\n",
        "\n",
        "obj = MathUtils.add(5, 3)\n",
        "print(obj)  # Output: 8"
      ],
      "metadata": {
        "colab": {
          "base_uri": "https://localhost:8080/"
        },
        "id": "Pb4_HHWSgR0d",
        "outputId": "9b628f19-988a-41e4-85dd-2ec5529ef62a"
      },
      "execution_count": null,
      "outputs": [
        {
          "output_type": "stream",
          "name": "stdout",
          "text": [
            "8\n"
          ]
        }
      ]
    },
    {
      "cell_type": "markdown",
      "source": [
        "Create a class Logger that prints a message when an object is created (constructor) and another message when it is destroyed (destructor)."
      ],
      "metadata": {
        "id": "Zp9KI79ECI7o"
      }
    },
    {
      "cell_type": "code",
      "source": [
        "class Logger:\n",
        "    def __init__(self):\n",
        "        # Constructor: Prints a message when the object is created\n",
        "        print(\"Logger object has been created.\")\n",
        "\n",
        "    def __del__(self):\n",
        "        # Destructor: Prints a message when the object is destroyed\n",
        "        print(\"Logger object is being destroyed.\")\n",
        "\n",
        "# Example usage:\n",
        "logger1 = Logger()  # This will trigger the constructor and print the creation message\n",
        "del logger1  # This will explicitly call the destructor and print the destruction message\n"
      ],
      "metadata": {
        "colab": {
          "base_uri": "https://localhost:8080/",
          "height": 0
        },
        "id": "zhM35HxwCBKb",
        "outputId": "e8f415ed-4dc2-442f-9b3e-73dc3569b87f"
      },
      "execution_count": 9,
      "outputs": [
        {
          "output_type": "stream",
          "name": "stdout",
          "text": [
            "Logger object has been created.\n",
            "Logger object is being destroyed.\n"
          ]
        }
      ]
    },
    {
      "cell_type": "code",
      "source": [
        "@dataclass\n",
        "class Employee:\n",
        "    name: str\n",
        "    _salary: int  # Protected variable\n",
        "    __ssn: str  # Private variable\n",
        "\n",
        "\n",
        "\n",
        "    def display_info(self):\n",
        "        # Method to display employee information\n",
        "        print(f\"Name: {self.name}\")\n",
        "        print(f\"Salary: {self._salary}\")\n",
        "        print(f\"SSN: {self.__ssn}\")  # This will work because it's inside the class\n",
        "\n",
        "# Example usage:\n",
        "employee = Employee(\"John Doe\", 50000, \"123-45-6789\")\n",
        "\n",
        "# Accessing public variable\n",
        "print(employee.name)  # Accessible from outside the class\n",
        "\n",
        "# Accessing protected variable\n",
        "print(employee._salary)  # Accessible, but convention says to avoid this from outside the class\n",
        "\n",
        "\n",
        "# Accessing private variable using name mangling\n",
        "print(employee._Employee__ssn)  # Name mangling allows access to private variables (not recommended)\n"
      ],
      "metadata": {
        "colab": {
          "base_uri": "https://localhost:8080/",
          "height": 0
        },
        "id": "JdE5wUzXGUZp",
        "outputId": "98b44e65-33fe-4e1b-970b-c62fdf19b447"
      },
      "execution_count": 4,
      "outputs": [
        {
          "output_type": "stream",
          "name": "stdout",
          "text": [
            "Hamza sheikh\n",
            "50000\n",
            "123-45-6789\n"
          ]
        }
      ]
    },
    {
      "cell_type": "code",
      "source": [
        "from dataclasses import dataclass\n",
        "\n",
        "@dataclass\n",
        "class Person:\n",
        "  name: str\n",
        "\n",
        "@dataclass\n",
        "class Teacher(Person):\n",
        "  subject: str\n",
        "\n",
        "  def __post_init__(self):\n",
        "    super().__init__(self.name)\n",
        "\n",
        "# Example usage\n",
        "teacher = Teacher(\"Qasim\", \"Agentic AI\")\n",
        "teacher2 = Teacher(\"Ameen alam\", \"Cloud \")\n",
        "teacher3 = Teacher(\"Junaid\", \"Agentic AI\")\n",
        "print(teacher.name)\n",
        "print(teacher.subject)\n"
      ],
      "metadata": {
        "colab": {
          "base_uri": "https://localhost:8080/"
        },
        "id": "dPNMqNeDf44n",
        "outputId": "b795ce9d-5169-44f8-daae-f6acc216556d"
      },
      "execution_count": 18,
      "outputs": [
        {
          "output_type": "stream",
          "name": "stdout",
          "text": [
            "Qasim\n",
            "Agentic AI\n"
          ]
        }
      ]
    },
    {
      "cell_type": "code",
      "source": [
        "\n",
        "from abc import ABC, abstractmethod\n",
        "from dataclasses import dataclass\n",
        "\n",
        "class Shape(ABC):\n",
        "  @abstractmethod\n",
        "  def area(self):\n",
        "    pass\n",
        "\n",
        "@dataclass\n",
        "class Rectangle(Shape):\n",
        "  width: int\n",
        "  height: int\n",
        "\n",
        "  def area(self):\n",
        "    return self.width * self.height\n",
        "\n",
        "# Example usage\n",
        "rectangle = Rectangle(5, 10)\n",
        "print(rectangle.area())\n"
      ],
      "metadata": {
        "colab": {
          "base_uri": "https://localhost:8080/"
        },
        "id": "gHxk37XAgm7m",
        "outputId": "10b5bd9a-0e30-4d1d-b014-c6e061720909"
      },
      "execution_count": 19,
      "outputs": [
        {
          "output_type": "stream",
          "name": "stdout",
          "text": [
            "50\n"
          ]
        }
      ]
    },
    {
      "cell_type": "code",
      "source": [
        "from dataclasses import dataclass\n",
        "\n",
        "@dataclass\n",
        "class Dog:\n",
        "    name: str\n",
        "    breed: str\n",
        "\n",
        "    def bark(self):\n",
        "        print(f\"{self.name} the {self.breed} says Woof!\")\n",
        "\n",
        "# Example usage\n",
        "my_dog = Dog(\"Buddy\", \"Golden Retriever\")\n",
        "my_dog.bark()\n"
      ],
      "metadata": {
        "colab": {
          "base_uri": "https://localhost:8080/"
        },
        "id": "kWiT-6d2g015",
        "outputId": "85dde5c0-dd08-4410-8525-02c1b2caf16a"
      },
      "execution_count": 20,
      "outputs": [
        {
          "output_type": "stream",
          "name": "stdout",
          "text": [
            "Buddy the Golden Retriever says Woof!\n"
          ]
        }
      ]
    },
    {
      "cell_type": "code",
      "source": [
        "from dataclasses import dataclass\n",
        "from typing import ClassVar\n",
        "\n",
        "@dataclass\n",
        "class Book:\n",
        "    title: str\n",
        "    author: str\n",
        "    total_books: ClassVar[int] = 0\n",
        "\n",
        "    def __post_init__(self):\n",
        "        Book.total_books += 1\n",
        "\n",
        "    @classmethod\n",
        "    def increment_book_count(cls):\n",
        "        cls.total_books += 1\n",
        "\n",
        "# Example usage\n",
        "book1 = Book(\"The Hitchhiker's Guide to the Galaxy\", \"Douglas Adams\")\n",
        "book2 = Book(\"Pride and Prejudice\", \"Jane Austen\")\n",
        "\n",
        "print(f\"Total books: {Book.total_books}\")\n"
      ],
      "metadata": {
        "colab": {
          "base_uri": "https://localhost:8080/"
        },
        "id": "kxc7Jtw6g_MT",
        "outputId": "4d6700df-989a-4854-b143-89fe2b77362b"
      },
      "execution_count": 22,
      "outputs": [
        {
          "output_type": "stream",
          "name": "stdout",
          "text": [
            "Total books: 2\n"
          ]
        }
      ]
    },
    {
      "cell_type": "code",
      "source": [
        "from dataclasses import dataclass\n",
        "\n",
        "@dataclass\n",
        "class TemperatureConverter:\n",
        "    @staticmethod\n",
        "    def celsius_to_fahrenheit(c):\n",
        "        return (c * 9/5) + 32\n",
        "\n",
        "# Example usage\n",
        "fahrenheit = TemperatureConverter.celsius_to_fahrenheit(50)\n",
        "print(f\"25 degrees Celsius is equal to {fahrenheit} degrees Fahrenheit.\")"
      ],
      "metadata": {
        "colab": {
          "base_uri": "https://localhost:8080/"
        },
        "id": "Qb7b-rlvhN-T",
        "outputId": "1444d7d8-814e-4ae6-f4b2-a665f5749e17"
      },
      "execution_count": 29,
      "outputs": [
        {
          "output_type": "stream",
          "name": "stdout",
          "text": [
            "25 degrees Celsius is equal to 122.0 degrees Fahrenheit.\n"
          ]
        }
      ]
    },
    {
      "cell_type": "code",
      "source": [
        "from dataclasses import dataclass\n",
        "\n",
        "@dataclass\n",
        "class Engine:\n",
        "  horsepower: int\n",
        "\n",
        "  def start(self):\n",
        "    return \"Engine started!\"\n",
        "\n",
        "@dataclass\n",
        "class Car:\n",
        "  brand: str\n",
        "  engine: Engine  # Composition: Car has an Engine\n",
        "\n",
        "  def start_car(self):\n",
        "    return self.engine.start() # Accessing Engine's method\n",
        "\n",
        "# Example usage\n",
        "my_engine = Engine(horsepower=200)\n",
        "my_car = Car(brand=\"Toyota\", engine=my_engine)\n",
        "print(my_car.start_car())\n"
      ],
      "metadata": {
        "colab": {
          "base_uri": "https://localhost:8080/"
        },
        "id": "5gXZnCt0h185",
        "outputId": "0bace632-7b53-4191-cb1c-45c067cfba73"
      },
      "execution_count": 30,
      "outputs": [
        {
          "output_type": "stream",
          "name": "stdout",
          "text": [
            "Engine started!\n"
          ]
        }
      ]
    },
    {
      "cell_type": "code",
      "source": [
        "from dataclasses import dataclass\n",
        "\n",
        "@dataclass\n",
        "class Employee:\n",
        "    name: str\n",
        "    id: int\n",
        "\n",
        "@dataclass\n",
        "class Department:\n",
        "    name: str\n",
        "    employee: Employee  # Aggregation: Department has an Employee\n",
        "\n",
        "# Example usage\n",
        "employee1 = Employee(\"John Doe\", 12345)\n",
        "department1 = Department(\"Sales\", employee1)\n",
        "\n",
        "print(department1)\n",
        "print(department1.employee.name) # Accessing employee's name\n",
        "\n",
        "# The Employee object (employee1) exists independently.\n",
        "# Even if department1 is deleted, employee1 will still exist.\n"
      ],
      "metadata": {
        "colab": {
          "base_uri": "https://localhost:8080/"
        },
        "id": "oJHI8auTh-Yy",
        "outputId": "ceeda625-dfb9-4b9d-f25e-66c8eb8cc32f"
      },
      "execution_count": 35,
      "outputs": [
        {
          "output_type": "stream",
          "name": "stdout",
          "text": [
            "Department(name='Sales', employee=Employee(name='John Doe', id=12345))\n",
            "John Doe\n"
          ]
        }
      ]
    },
    {
      "cell_type": "code",
      "source": [
        "class A:\n",
        "  def show(self):\n",
        "    print(\"A's show method\")\n",
        "\n",
        "class B(A):\n",
        "  def show(self):\n",
        "    print(\"B's show method\")\n",
        "\n",
        "class C(A):\n",
        "  def show(self):\n",
        "    print(\"C's show method\")\n",
        "\n",
        "class D(B, C):\n",
        "  pass\n",
        "\n",
        "obj = D()\n",
        "obj.show()\n"
      ],
      "metadata": {
        "colab": {
          "base_uri": "https://localhost:8080/"
        },
        "id": "0axwkzIniM81",
        "outputId": "af7ea4ed-1316-4f7d-cba2-4f595f333d15"
      },
      "execution_count": 36,
      "outputs": [
        {
          "output_type": "stream",
          "name": "stdout",
          "text": [
            "B's show method\n"
          ]
        }
      ]
    },
    {
      "cell_type": "code",
      "source": [
        "\n",
        "def log_function_call(func):\n",
        "  def wrapper():\n",
        "    print(\"Function is being called\")\n",
        "    func()\n",
        "  return wrapper\n",
        "\n",
        "@log_function_call\n",
        "def say_hello():\n",
        "  print(\"Hello!\")\n",
        "\n",
        "say_hello()\n"
      ],
      "metadata": {
        "colab": {
          "base_uri": "https://localhost:8080/"
        },
        "id": "G7i_7ozgiWl-",
        "outputId": "158c316a-4a7e-46b1-c320-16f7d8298a14"
      },
      "execution_count": 37,
      "outputs": [
        {
          "output_type": "stream",
          "name": "stdout",
          "text": [
            "Function is being called\n",
            "Hello!\n"
          ]
        }
      ]
    },
    {
      "cell_type": "code",
      "source": [
        "from dataclasses import dataclass\n",
        "\n",
        "def add_greeting(cls):\n",
        "  \"\"\"\n",
        "  Class decorator to add a greet() method to a class.\n",
        "  \"\"\"\n",
        "  cls.greet = lambda self: \"Hello from Decorator!\"\n",
        "  return cls\n",
        "\n",
        "@dataclass\n",
        "@add_greeting\n",
        "class Person:\n",
        "  name: str\n",
        "\n",
        "# Example usage\n",
        "person = Person(\"Alice\")\n",
        "print(person.greet())\n"
      ],
      "metadata": {
        "colab": {
          "base_uri": "https://localhost:8080/"
        },
        "id": "XXLog37uietr",
        "outputId": "34feaeca-cfb9-4ee0-c54d-41220f3d0759"
      },
      "execution_count": 38,
      "outputs": [
        {
          "output_type": "stream",
          "name": "stdout",
          "text": [
            "Hello from Decorator!\n"
          ]
        }
      ]
    },
    {
      "cell_type": "code",
      "source": [
        "from dataclasses import dataclass\n",
        "\n",
        "@dataclass\n",
        "class Product:\n",
        "    _price: float\n",
        "\n",
        "    @property\n",
        "    def price(self):\n",
        "        return self._price\n",
        "\n",
        "    @price.setter\n",
        "    def price(self, new_price):\n",
        "        if new_price > 0:\n",
        "            self._price = new_price\n",
        "        else:\n",
        "            print(\"Price must be greater than zero.\")\n",
        "\n",
        "    @price.deleter\n",
        "    def price(self):\n",
        "        del self._price\n",
        "\n",
        "# Example usage\n",
        "product = Product(10.0)\n",
        "print(product.price)  # Output: 10.0\n",
        "\n",
        "product.price = 20.0\n",
        "print(product.price)  # Output: 20.0\n",
        "\n",
        "product.price = 5.0\n",
        "product.price = -5.0  # Output: Price must be greater than zero.\n",
        "print(product.price)  # Output: 20.0\n",
        "\n",
        "del product.price\n",
        "# print(product.price)  # This will raise an AttributeError because the price attribute has been deleted.\n"
      ],
      "metadata": {
        "colab": {
          "base_uri": "https://localhost:8080/"
        },
        "id": "qRdje8q0ilxb",
        "outputId": "f11f4b77-976e-4f7c-ef07-ec48c0b4d0d2"
      },
      "execution_count": 42,
      "outputs": [
        {
          "output_type": "stream",
          "name": "stdout",
          "text": [
            "10.0\n",
            "20.0\n",
            "Price must be greater than zero.\n",
            "5.0\n"
          ]
        }
      ]
    },
    {
      "cell_type": "code",
      "source": [
        "from dataclasses import dataclass\n",
        "\n",
        "@dataclass\n",
        "class Multiplier:\n",
        "    factor: int\n",
        "\n",
        "    def __call__(self, x):\n",
        "        return self.factor * x\n",
        "\n",
        "# Test the Multiplier class\n",
        "multiplier = Multiplier(3)\n",
        "\n",
        "print(callable(multiplier))  # Output: True\n",
        "\n",
        "print(multiplier(5))  # Output: 15\n"
      ],
      "metadata": {
        "colab": {
          "base_uri": "https://localhost:8080/"
        },
        "id": "OaNclD5ei0eR",
        "outputId": "c433c474-b7eb-4876-a1d2-b79808e069db"
      },
      "execution_count": 43,
      "outputs": [
        {
          "output_type": "stream",
          "name": "stdout",
          "text": [
            "True\n",
            "15\n"
          ]
        }
      ]
    },
    {
      "cell_type": "code",
      "source": [
        "class InvalidAgeError(Exception):\n",
        "    pass\n",
        "\n",
        "def check_age(age):\n",
        "    if age < 18:\n",
        "        raise InvalidAgeError(\"Age must be 18 or older.\")\n",
        "    else:\n",
        "        print(\"Valid age\")\n",
        "\n",
        "try:\n",
        "    check_age(15)  # This will raise the InvalidAgeError\n",
        "except InvalidAgeError as e:\n",
        "    print(f\"Error: {e}\")\n",
        "\n",
        "try:\n",
        "    check_age(20)\n",
        "except InvalidAgeError as e:\n",
        "    print(f\"Error: {e}\")\n"
      ],
      "metadata": {
        "colab": {
          "base_uri": "https://localhost:8080/"
        },
        "id": "cG9Abnqsi9Eg",
        "outputId": "1c483798-e023-47b8-f66a-2d9d3b65dde1"
      },
      "execution_count": 44,
      "outputs": [
        {
          "output_type": "stream",
          "name": "stdout",
          "text": [
            "Error: Age must be 18 or older.\n",
            "Valid age\n"
          ]
        }
      ]
    },
    {
      "cell_type": "code",
      "source": [
        "from dataclasses import dataclass\n",
        "\n",
        "@dataclass\n",
        "class Countdown:\n",
        "    start: int\n",
        "\n",
        "    def __iter__(self):\n",
        "        self.current = self.start\n",
        "        return self\n",
        "\n",
        "    def __next__(self):\n",
        "        if self.current >= 0:\n",
        "            result = self.current\n",
        "            self.current -= 1\n",
        "            return result\n",
        "        else:\n",
        "            raise StopIteration\n",
        "\n",
        "# Example usage\n",
        "countdown = Countdown(5)\n"
      ],
      "metadata": {
        "id": "oftP6djgjaHL"
      },
      "execution_count": 47,
      "outputs": []
    }
  ]
}